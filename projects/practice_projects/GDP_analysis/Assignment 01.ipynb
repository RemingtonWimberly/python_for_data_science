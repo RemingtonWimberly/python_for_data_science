{
 "cells": [
  {
   "cell_type": "markdown",
   "metadata": {},
   "source": [
    "<img src=\"http://cfs22.simplicdn.net/ice9/new_logo.svgz \"/>\n",
    "\n",
    "# Assignment 01: Evaluate the GDP Dataset\n",
    "\n",
    "*The comments/sections provided are your cues to perform the assignment. You don't need to limit yourself to the number of rows/cells provided. You can add additional rows in each section to add more lines of code.*\n",
    "\n",
    "*If at any point in time you need help on solving this assignment, view our demo video to understand the different steps of the code.*\n",
    "\n",
    "**Happy coding!**\n",
    "\n",
    "* * *"
   ]
  },
  {
   "cell_type": "markdown",
   "metadata": {},
   "source": [
    "#### 1: View and add the dataset"
   ]
  },
  {
   "cell_type": "code",
   "execution_count": 2,
   "metadata": {},
   "outputs": [],
   "source": [
    "#Import required library\n",
    "import numpy as np"
   ]
  },
  {
   "cell_type": "code",
   "execution_count": 5,
   "metadata": {},
   "outputs": [],
   "source": [
    "#Manually add the dataset\n",
    "countries = np.array(['Algeria','Angola','Argentina','Australia','Austria','Bahamas','Bangladesh','Belarus','Belgium','Bhutan','Brazil','Bulgaria','Cambodia','Cameroon','Chile','China','Colombia','Cyprus','Denmark','El Salvador','Estonia','Ethiopia','Fiji','Finland','France','Georgia','Ghana','Grenada','Guinea','Haiti','Honduras','Hungary','India','Indonesia','Ireland','Italy','Japan','Kenya', 'South Korea','Liberia','Malaysia','Mexico', 'Morocco','Nepal','New Zealand','Norway','Pakistan', 'Peru','Qatar','Russia','Singapore','South Africa','Spain','Sweden','Switzerland','Thailand', 'United Arab Emirates','United Kingdom','United States','Uruguay','Venezuela','Vietnam','Zimbabwe'])\n",
    "gdp_per_capita = np.array([2255.225482,629.9553062,11601.63022,25306.82494,27266.40335,19466.99052,588.3691778,2890.345675,24733.62696,1445.760002,4803.398244,2618.876037,590.4521124,665.7982328,7122.938458,2639.54156,3362.4656,15378.16704,30860.12808,2579.115607,6525.541272,229.6769525,2242.689259,27570.4852,23016.84778,1334.646773,402.6953275,6047.200797,394.1156638,385.5793827,1414.072488,5745.981529,837.7464011,1206.991065,27715.52837,18937.24998,39578.07441,478.2194906,16684.21278,279.2204061,5345.213415,6288.25324,1908.304416,274.8728621,14646.42094,40034.85063,672.1547506,3359.517402,36152.66676,3054.727742,33529.83052,3825.093781,15428.32098,33630.24604,39170.41371,2699.123242,21058.43643,28272.40661,37691.02733,9581.05659,5671.912202,757.4009286,347.7456605])"
   ]
  },
  {
   "cell_type": "markdown",
   "metadata": {
    "collapsed": true
   },
   "source": [
    "#### 2: Find and print the name of the country with the highest GDP"
   ]
  },
  {
   "cell_type": "code",
   "execution_count": 23,
   "metadata": {},
   "outputs": [],
   "source": [
    "#Use the argmax() method to find the highest GDP\n",
    "highest_gdp_per_capita = gdp_per_capita.argmax()"
   ]
  },
  {
   "cell_type": "code",
   "execution_count": 7,
   "metadata": {},
   "outputs": [
    {
     "data": {
      "text/plain": [
       "'Norway'"
      ]
     },
     "execution_count": 7,
     "metadata": {},
     "output_type": "execute_result"
    }
   ],
   "source": [
    "#Print the name of the country\n",
    "country_with_highest_gdp_per_capita = countries[highest_gdp_per_capita]\n",
    "country_with_highest_gdp_per_capita"
   ]
  },
  {
   "cell_type": "markdown",
   "metadata": {},
   "source": [
    "#### 3: Find and print the name of the country with the lowest GDP"
   ]
  },
  {
   "cell_type": "code",
   "execution_count": 8,
   "metadata": {},
   "outputs": [],
   "source": [
    "#Use the argmin() method to find the lowest GDP\n",
    "lowest_gdp_per_capita = gdp_per_capita.argmin()"
   ]
  },
  {
   "cell_type": "code",
   "execution_count": 10,
   "metadata": {},
   "outputs": [
    {
     "data": {
      "text/plain": [
       "'Ethiopia'"
      ]
     },
     "execution_count": 10,
     "metadata": {},
     "output_type": "execute_result"
    }
   ],
   "source": [
    "#Print the name of the country\n",
    "country_with_the_lowest_gdp_per_capita = countries[lowest_gdp_per_capita]\n",
    "country_with_the_lowest_gdp_per_capita"
   ]
  },
  {
   "cell_type": "markdown",
   "metadata": {},
   "source": [
    "#### 4: Print out text ('evaluating country') and input value ('country name') iteratively"
   ]
  },
  {
   "cell_type": "code",
   "execution_count": 11,
   "metadata": {},
   "outputs": [
    {
     "name": "stdout",
     "output_type": "stream",
     "text": [
      "Evaluating Country: Algeria\n",
      "Evaluating Country: Angola\n",
      "Evaluating Country: Argentina\n",
      "Evaluating Country: Australia\n",
      "Evaluating Country: Austria\n",
      "Evaluating Country: Bahamas\n",
      "Evaluating Country: Bangladesh\n",
      "Evaluating Country: Belarus\n",
      "Evaluating Country: Belgium\n",
      "Evaluating Country: Bhutan\n",
      "Evaluating Country: Brazil\n",
      "Evaluating Country: Bulgaria\n",
      "Evaluating Country: Cambodia\n",
      "Evaluating Country: Cameroon\n",
      "Evaluating Country: Chile\n",
      "Evaluating Country: China\n",
      "Evaluating Country: Colombia\n",
      "Evaluating Country: Cyprus\n",
      "Evaluating Country: Denmark\n",
      "Evaluating Country: El Salvador\n",
      "Evaluating Country: Estonia\n",
      "Evaluating Country: Ethiopia\n",
      "Evaluating Country: Fiji\n",
      "Evaluating Country: Finland\n",
      "Evaluating Country: France\n",
      "Evaluating Country: Georgia\n",
      "Evaluating Country: Ghana\n",
      "Evaluating Country: Grenada\n",
      "Evaluating Country: Guinea\n",
      "Evaluating Country: Haiti\n",
      "Evaluating Country: Honduras\n",
      "Evaluating Country: Hungary\n",
      "Evaluating Country: India\n",
      "Evaluating Country: Indonesia\n",
      "Evaluating Country: Ireland\n",
      "Evaluating Country: Italy\n",
      "Evaluating Country: Japan\n",
      "Evaluating Country: Kenya\n",
      "Evaluating Country: South Korea\n",
      "Evaluating Country: Liberia\n",
      "Evaluating Country: Malaysia\n",
      "Evaluating Country: Mexico\n",
      "Evaluating Country: Morocco\n",
      "Evaluating Country: Nepal\n",
      "Evaluating Country: New Zealand\n",
      "Evaluating Country: Norway\n",
      "Evaluating Country: Pakistan\n",
      "Evaluating Country: Peru\n",
      "Evaluating Country: Qatar\n",
      "Evaluating Country: Russia\n",
      "Evaluating Country: Singapore\n",
      "Evaluating Country: South Africa\n",
      "Evaluating Country: Spain\n",
      "Evaluating Country: Sweden\n",
      "Evaluating Country: Switzerland\n",
      "Evaluating Country: Thailand\n",
      "Evaluating Country: United Arab Emirates\n",
      "Evaluating Country: United Kingdom\n",
      "Evaluating Country: United States\n",
      "Evaluating Country: Uruguay\n",
      "Evaluating Country: Venezuela\n",
      "Evaluating Country: Vietnam\n",
      "Evaluating Country: Zimbabwe\n"
     ]
    }
   ],
   "source": [
    "#Use a for loop to print the required output\n",
    "for i in countries:\n",
    "    print(f'Evaluating Country: {i}')"
   ]
  },
  {
   "cell_type": "markdown",
   "metadata": {},
   "source": [
    "#### 5: Print out the entire list of the countries with their GDPs"
   ]
  },
  {
   "cell_type": "code",
   "execution_count": 18,
   "metadata": {},
   "outputs": [
    {
     "name": "stdout",
     "output_type": "stream",
     "text": [
      "Algeria GDP = 2255.23\n",
      "Angola GDP = 629.96\n",
      "Argentina GDP = 11601.63\n",
      "Australia GDP = 25306.82\n",
      "Austria GDP = 27266.4\n",
      "Bahamas GDP = 19466.99\n",
      "Bangladesh GDP = 588.37\n",
      "Belarus GDP = 2890.35\n",
      "Belgium GDP = 24733.63\n",
      "Bhutan GDP = 1445.76\n",
      "Brazil GDP = 4803.4\n",
      "Bulgaria GDP = 2618.88\n",
      "Cambodia GDP = 590.45\n",
      "Cameroon GDP = 665.8\n",
      "Chile GDP = 7122.94\n",
      "China GDP = 2639.54\n",
      "Colombia GDP = 3362.47\n",
      "Cyprus GDP = 15378.17\n",
      "Denmark GDP = 30860.13\n",
      "El Salvador GDP = 2579.12\n",
      "Estonia GDP = 6525.54\n",
      "Ethiopia GDP = 229.68\n",
      "Fiji GDP = 2242.69\n",
      "Finland GDP = 27570.49\n",
      "France GDP = 23016.85\n",
      "Georgia GDP = 1334.65\n",
      "Ghana GDP = 402.7\n",
      "Grenada GDP = 6047.2\n",
      "Guinea GDP = 394.12\n",
      "Haiti GDP = 385.58\n",
      "Honduras GDP = 1414.07\n",
      "Hungary GDP = 5745.98\n",
      "India GDP = 837.75\n",
      "Indonesia GDP = 1206.99\n",
      "Ireland GDP = 27715.53\n",
      "Italy GDP = 18937.25\n",
      "Japan GDP = 39578.07\n",
      "Kenya GDP = 478.22\n",
      "South Korea GDP = 16684.21\n",
      "Liberia GDP = 279.22\n",
      "Malaysia GDP = 5345.21\n",
      "Mexico GDP = 6288.25\n",
      "Morocco GDP = 1908.3\n",
      "Nepal GDP = 274.87\n",
      "New Zealand GDP = 14646.42\n",
      "Norway GDP = 40034.85\n",
      "Pakistan GDP = 672.15\n",
      "Peru GDP = 3359.52\n",
      "Qatar GDP = 36152.67\n",
      "Russia GDP = 3054.73\n",
      "Singapore GDP = 33529.83\n",
      "South Africa GDP = 3825.09\n",
      "Spain GDP = 15428.32\n",
      "Sweden GDP = 33630.25\n",
      "Switzerland GDP = 39170.41\n",
      "Thailand GDP = 2699.12\n",
      "United Arab Emirates GDP = 21058.44\n",
      "United Kingdom GDP = 28272.41\n",
      "United States GDP = 37691.03\n",
      "Uruguay GDP = 9581.06\n",
      "Venezuela GDP = 5671.91\n",
      "Vietnam GDP = 757.4\n",
      "Zimbabwe GDP = 347.75\n"
     ]
    }
   ],
   "source": [
    "#Use a for loop to print the required list\n",
    "for i in range(len(countries)):\n",
    "    country = countries[i]\n",
    "    country_gdp_per_capita = gdp_per_capita[i].round(2)\n",
    "    print(f'{country} Per Capita GDP = {country_gdp_per_capita}')"
   ]
  },
  {
   "cell_type": "markdown",
   "metadata": {},
   "source": [
    "#### 6: Print the following:\n",
    "1. Highest GPD value\n",
    "2. Lowest GDP value\n",
    "3. Mean GDP value\n",
    "4. Standardized GDP value\n",
    "5. Sum of all the GDPs"
   ]
  },
  {
   "cell_type": "code",
   "execution_count": 20,
   "metadata": {},
   "outputs": [
    {
     "name": "stdout",
     "output_type": "stream",
     "text": [
      "40034.85063\n",
      "229.6769525\n",
      "11289.409271639683\n",
      "12743.828910617945\n",
      "711232.7841133\n"
     ]
    }
   ],
   "source": [
    "print(gdp_per_capita.max())\n",
    "print(gdp_per_capita.min())\n",
    "print(gdp_per_capita.mean())\n",
    "print(gdp_per_capita.std())\n",
    "print(gdp_per_capita.sum())"
   ]
  }
 ],
 "metadata": {
  "kernelspec": {
   "display_name": "Python 3",
   "language": "python",
   "name": "python3"
  },
  "language_info": {
   "codemirror_mode": {
    "name": "ipython",
    "version": 3
   },
   "file_extension": ".py",
   "mimetype": "text/x-python",
   "name": "python",
   "nbconvert_exporter": "python",
   "pygments_lexer": "ipython3",
   "version": "3.9.1"
  }
 },
 "nbformat": 4,
 "nbformat_minor": 1
}